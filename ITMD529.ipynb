{
 "cells": [
  {
   "cell_type": "code",
   "execution_count": 12,
   "metadata": {
    "collapsed": false
   },
   "outputs": [],
   "source": [
    "\n",
    "%matplotlib inline\n",
    "\n",
    "# import packages\n",
    "\n",
    "import matplotlib.pyplot as plt\n",
    "import pandas as pd\n",
    "import statsmodels.api as sm\n",
    "import numpy as np\n",
    "import sqlite3\n",
    "from sklearn import cross_validation\n",
    "from sklearn.linear_model import LogisticRegression\n",
    "from sklearn.metrics import roc_curve, roc_auc_score\n",
    "from pandas.io import sql\n",
    "from matplotlib.ticker import ScalarFormatter\n",
    "\n",
    "# load the raw data\n",
    "\n",
    "# Select only the relevant columns\n",
    "pop_cols = ['AGEP','SEX','HISP','POBP','RAC1P','SCIENGP','SOCP']\n"
   ]
  },
  {
   "cell_type": "code",
   "execution_count": 13,
   "metadata": {
    "collapsed": false
   },
   "outputs": [],
   "source": [
    "df = pd.read_csv(\"/Master/SEM 4/Project/Illinois/csv_pil/ss13pil.csv\")"
   ]
  },
  {
   "cell_type": "code",
   "execution_count": 14,
   "metadata": {
    "collapsed": false
   },
   "outputs": [],
   "source": [
    "if np.min(df['SEX']) > 0: #ensures that code won't be run if it's been recoded already\n",
    "  df['SEX'] = df['SEX'] - 1\n",
    "# Next, create a new column with Male/Female labels\n",
    "oldNewMap = {0: \"Male\", 1: \"Female\"}\n",
    "df['sex_recode'] = df['SEX'].map(oldNewMap)\n",
    "\n",
    "# Recode race\n",
    "# I will be using different categories than are used in the census data.\n",
    "# All individuals of Hispanic origin will be categorized as Hispanic.\n",
    "# Non-Hispanic White, Non-Hispanic Black and Asian will be included as categories.\n",
    "# All other races are coded as \"Other\"\n",
    "def race_recode(row):\n",
    "  if row['HISP'] > 1:\n",
    "    return \"Hispanic\"\n",
    "  elif row['RAC1P'] == 1:\n",
    "    return \"White\"\n",
    "  elif row['RAC1P'] == 2:\n",
    "    return \"African/American\"\n",
    "  elif row['RAC1P'] == 6:\n",
    "    return \"Asian\"\n",
    "  else:\n",
    "    return \"Other\"\n",
    "df['race_recode'] = df.apply(race_recode, axis=1)\n",
    "\n",
    "# recode the HISP variable for easy readability\n",
    "oldNewMap = {1: \"Not Spanish/Hispanic/Latino\", 2: \"Mexican\", 3: \"Puerto Rican\", 4: \"Cuban\", \n",
    "             5: \"Dominican\", 6: \"Costa Rican\", 7: \"Guatemalan\", 8: \"Honduran\", 9: \"Nicaraguan\",\n",
    "            10: \"Panamanian\", 11: \"Salvadorian\", 12: \"Other Central American\", 13: \"Argentinian\",\n",
    "            14: \"Bolivian\", 15: \"Chilean\", 16: \"Colombian\", 17: \"Ecuadorian\", 18: \"Paraguayan\",\n",
    "            19: \"Peruvian\", 20: \"Uruguayan\", 21: \"Venezuelan\", 22: \"Other South American\",\n",
    "            23: \"Spaniard\", 24: \"All Other Spanish/Hispanic/Latino\"}\n",
    "df['detailed_hispanic_origin'] = df['HISP'].map(oldNewMap)"
   ]
  },
  {
   "cell_type": "code",
   "execution_count": 15,
   "metadata": {
    "collapsed": true
   },
   "outputs": [],
   "source": [
    "oldNewMap = {1: 1, 2: 0}\n",
    "df['science_degree'] = df['SCIENGP'].map(oldNewMap)\n",
    "df['science_degree'].fillna(value=0,inplace=True) # map doesn't include NA values, so they must be filled with zeroes\n",
    "\n",
    "# Create STEM occupation outcome variable\n",
    "\n",
    "science_job_codes = ['113021','119041','119121','151111','151121','151122','151131','151132','151133',\n",
    "                          '151134','151141','151142','151143','151151','151152','151199','152011','152021',\n",
    "                          '152031','152041','152099','171021','171022','172011','172021','172031','172041',\n",
    "                          '172051','172061','172071','172072','172081','172111','172112','172121','172131',\n",
    "                          '172141','172151','172161','172171','172199','173012','173013','173019','173021',\n",
    "                          '173022','173023','173024','173025','173026','173027','173029','173031','191011',\n",
    "                          '191012','191012','191021','191022','191023','191029','191031','191032','191041',\n",
    "                          '191042','191099','192011','192012','192021','192031','192032','192041','192042',\n",
    "                          '192043','192099','194011','194021','194031','194041','194051','194091','194092',\n",
    "                          '194093','251021','251022','251032','251041','251042','251043','251051','251052',\n",
    "                          '251053','251054','414011','419031']\n",
    "df['science_occupation'] = df['SOCP'].isin(science_job_codes).astype(int)"
   ]
  },
  {
   "cell_type": "code",
   "execution_count": 6,
   "metadata": {
    "collapsed": false
   },
   "outputs": [
    {
     "data": {
      "text/plain": [
       "detailed_hispanic_origin\n",
       "Not Spanish/Hispanic/Latino          112598\n",
       "Mexican                               12148\n",
       "Puerto Rican                           1476\n",
       "All Other Spanish/Hispanic/Latino       311\n",
       "Guatemalan                              266\n",
       "Cuban                                   217\n",
       "Colombian                               196\n",
       "Ecuadorian                              159\n",
       "Spaniard                                126\n",
       "Honduran                                 99\n",
       "Peruvian                                 93\n",
       "Salvadorian                              78\n",
       "Dominican                                61\n",
       "Argentinian                              46\n",
       "Bolivian                                 43\n",
       "Nicaraguan                               35\n",
       "Venezuelan                               29\n",
       "Chilean                                  25\n",
       "Costa Rican                              20\n",
       "Panamanian                               15\n",
       "Other Central American                   14\n",
       "Uruguayan                                 7\n",
       "Other South American                      6\n",
       "Paraguayan                                2\n",
       "Name: science_degree, dtype: int64"
      ]
     },
     "execution_count": 6,
     "metadata": {},
     "output_type": "execute_result"
    }
   ],
   "source": [
    "df.pivot_table(index='detailed_hispanic_origin',values='science_degree',aggfunc='count').sort_values(ascending=False)"
   ]
  },
  {
   "cell_type": "code",
   "execution_count": 16,
   "metadata": {
    "collapsed": false
   },
   "outputs": [
    {
     "data": {
      "text/plain": [
       "detailed_hispanic_origin\n",
       "Uruguayan                            0.285714\n",
       "Chilean                              0.200000\n",
       "Panamanian                           0.200000\n",
       "Argentinian                          0.173913\n",
       "Costa Rican                          0.150000\n",
       "Colombian                            0.137755\n",
       "Cuban                                0.133641\n",
       "Peruvian                             0.118280\n",
       "Bolivian                             0.116279\n",
       "Ecuadorian                           0.088050\n",
       "Spaniard                             0.087302\n",
       "Not Spanish/Hispanic/Latino          0.081689\n",
       "Venezuelan                           0.068966\n",
       "All Other Spanish/Hispanic/Latino    0.064309\n",
       "Salvadorian                          0.051282\n",
       "Dominican                            0.049180\n",
       "Guatemalan                           0.048872\n",
       "Puerto Rican                         0.033875\n",
       "Nicaraguan                           0.028571\n",
       "Mexican                              0.019098\n",
       "Honduran                             0.010101\n",
       "Other Central American               0.000000\n",
       "Other South American                 0.000000\n",
       "Paraguayan                           0.000000\n",
       "Name: science_degree, dtype: float64"
      ]
     },
     "execution_count": 16,
     "metadata": {},
     "output_type": "execute_result"
    }
   ],
   "source": [
    "\n",
    "# compare Hispanic origins by rates of science degrees\n",
    "df.pivot_table(index='detailed_hispanic_origin',values='science_degree',aggfunc='mean').sort_values(ascending=False)"
   ]
  },
  {
   "cell_type": "code",
   "execution_count": 18,
   "metadata": {
    "collapsed": false
   },
   "outputs": [
    {
     "data": {
      "text/plain": [
       "race_recode\n",
       "Asian               0.047009\n",
       "White               0.017908\n",
       "Other               0.014843\n",
       "African/American    0.007671\n",
       "Hispanic            0.005041\n",
       "Name: science_occupation, dtype: float64"
      ]
     },
     "execution_count": 18,
     "metadata": {},
     "output_type": "execute_result"
    }
   ],
   "source": [
    "\n",
    "# compare Hispanic origins by rates of science occupations\n",
    "df.pivot_table(index='race_recode',values='science_occupation',aggfunc='mean').sort_values(ascending=False)"
   ]
  },
  {
   "cell_type": "code",
   "execution_count": 20,
   "metadata": {
    "collapsed": false
   },
   "outputs": [
    {
     "data": {
      "text/plain": [
       "race_recode\n",
       "Asian               0.238387\n",
       "White               0.079698\n",
       "Other               0.066158\n",
       "African/American    0.039104\n",
       "Hispanic            0.028697\n",
       "Name: science_degree, dtype: float64"
      ]
     },
     "execution_count": 20,
     "metadata": {},
     "output_type": "execute_result"
    }
   ],
   "source": [
    "\n",
    "# compare Hispanic origins by rates of science occupations\n",
    "df.pivot_table(index='race_recode',values='science_degree',aggfunc='mean').sort_values(ascending=False)"
   ]
  }
 ],
 "metadata": {
  "kernelspec": {
   "display_name": "Python 2",
   "language": "python",
   "name": "python2"
  },
  "language_info": {
   "codemirror_mode": {
    "name": "ipython",
    "version": 2
   },
   "file_extension": ".py",
   "mimetype": "text/x-python",
   "name": "python",
   "nbconvert_exporter": "python",
   "pygments_lexer": "ipython2",
   "version": "2.7.13"
  }
 },
 "nbformat": 4,
 "nbformat_minor": 2
}
